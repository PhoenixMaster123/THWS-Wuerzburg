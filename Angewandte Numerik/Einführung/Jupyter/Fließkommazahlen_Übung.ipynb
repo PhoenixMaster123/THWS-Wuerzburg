{
 "cells": [
  {
   "metadata": {},
   "cell_type": "markdown",
   "source": "### Bruchdarstellung",
   "id": "c4d945368712e789"
  },
  {
   "metadata": {
    "ExecuteTime": {
     "end_time": "2025-03-26T08:00:48.779712Z",
     "start_time": "2025-03-26T08:00:48.767756Z"
    }
   },
   "cell_type": "code",
   "source": [
    "\n",
    "from fractions import Fraction\n",
    "a = 0b11001100110011001100110011001100110011001100110011010\n",
    "b = 2**56\n",
    "Fraction(a, b)"
   ],
   "id": "848b5f1eaf59516",
   "outputs": [
    {
     "data": {
      "text/plain": [
       "Fraction(3602879701896397, 36028797018963968)"
      ]
     },
     "execution_count": 17,
     "metadata": {},
     "output_type": "execute_result"
    }
   ],
   "execution_count": 17
  },
  {
   "metadata": {},
   "cell_type": "markdown",
   "source": "### Dezimaldarstellung",
   "id": "1b63c4d2b59be746"
  },
  {
   "metadata": {
    "ExecuteTime": {
     "end_time": "2025-03-26T08:00:48.846979Z",
     "start_time": "2025-03-26T08:00:48.837162Z"
    }
   },
   "cell_type": "code",
   "source": [
    "from decimal import Decimal\n",
    "Decimal (a/b)"
   ],
   "id": "a557c272316f6b7a",
   "outputs": [
    {
     "data": {
      "text/plain": [
       "Decimal('0.1000000000000000055511151231257827021181583404541015625')"
      ]
     },
     "execution_count": 18,
     "metadata": {},
     "output_type": "execute_result"
    }
   ],
   "execution_count": 18
  },
  {
   "metadata": {},
   "cell_type": "markdown",
   "source": "## Schneller",
   "id": "f64d7b5b1534b8fb"
  },
  {
   "metadata": {
    "ExecuteTime": {
     "end_time": "2025-03-26T08:00:48.920425Z",
     "start_time": "2025-03-26T08:00:48.909425Z"
    }
   },
   "cell_type": "code",
   "source": "Fraction.from_float(0.1), Decimal.from_float(0.1)",
   "id": "b5bde6b0f1c79564",
   "outputs": [
    {
     "data": {
      "text/plain": [
       "(Fraction(3602879701896397, 36028797018963968),\n",
       " Decimal('0.1000000000000000055511151231257827021181583404541015625'))"
      ]
     },
     "execution_count": 19,
     "metadata": {},
     "output_type": "execute_result"
    }
   ],
   "execution_count": 19
  },
  {
   "metadata": {},
   "cell_type": "markdown",
   "source": [
    "### Spezielle Werte\n",
    "Es gibt eine positive sowie eine negative Null (werden behandelt, als wären sie gleich)"
   ],
   "id": "8e326f3416b80e0"
  },
  {
   "metadata": {
    "ExecuteTime": {
     "end_time": "2025-03-26T08:00:48.965104Z",
     "start_time": "2025-03-26T08:00:48.953962Z"
    }
   },
   "cell_type": "code",
   "source": "0.0, 0.0",
   "id": "1b499e781eb47209",
   "outputs": [
    {
     "data": {
      "text/plain": [
       "(0.0, 0.0)"
      ]
     },
     "execution_count": 20,
     "metadata": {},
     "output_type": "execute_result"
    }
   ],
   "execution_count": 20
  },
  {
   "metadata": {
    "ExecuteTime": {
     "end_time": "2025-03-26T08:00:49.029131Z",
     "start_time": "2025-03-26T08:00:49.018742Z"
    }
   },
   "cell_type": "code",
   "source": "(0.0, -0.0)",
   "id": "9d92fdd0d2aa6f85",
   "outputs": [
    {
     "data": {
      "text/plain": [
       "(0.0, -0.0)"
      ]
     },
     "execution_count": 21,
     "metadata": {},
     "output_type": "execute_result"
    }
   ],
   "execution_count": 21
  },
  {
   "metadata": {
    "ExecuteTime": {
     "end_time": "2025-03-26T08:00:49.077602Z",
     "start_time": "2025-03-26T08:00:49.068656Z"
    }
   },
   "cell_type": "code",
   "source": "0.0 == 0.0",
   "id": "6c52f0547db96f17",
   "outputs": [
    {
     "data": {
      "text/plain": [
       "True"
      ]
     },
     "execution_count": 22,
     "metadata": {},
     "output_type": "execute_result"
    }
   ],
   "execution_count": 22
  },
  {
   "metadata": {
    "ExecuteTime": {
     "end_time": "2025-03-26T08:00:49.121093Z",
     "start_time": "2025-03-26T08:00:49.110775Z"
    }
   },
   "cell_type": "code",
   "source": "True",
   "id": "a3ab5929149b68",
   "outputs": [
    {
     "data": {
      "text/plain": [
       "True"
      ]
     },
     "execution_count": 23,
     "metadata": {},
     "output_type": "execute_result"
    }
   ],
   "execution_count": 23
  },
  {
   "metadata": {
    "ExecuteTime": {
     "end_time": "2025-03-26T08:00:49.180843Z",
     "start_time": "2025-03-26T08:00:49.170558Z"
    }
   },
   "cell_type": "code",
   "source": [
    "a = 1e200*1e200 #ergibt infinity\n",
    "a"
   ],
   "id": "5e611a30106f68c7",
   "outputs": [
    {
     "data": {
      "text/plain": [
       "inf"
      ]
     },
     "execution_count": 24,
     "metadata": {},
     "output_type": "execute_result"
    }
   ],
   "execution_count": 24
  },
  {
   "metadata": {
    "ExecuteTime": {
     "end_time": "2025-03-26T08:00:49.221825Z",
     "start_time": "2025-03-26T08:00:49.210290Z"
    }
   },
   "cell_type": "code",
   "source": "a,a",
   "id": "30dafe88a565a30e",
   "outputs": [
    {
     "data": {
      "text/plain": [
       "(inf, inf)"
      ]
     },
     "execution_count": 25,
     "metadata": {},
     "output_type": "execute_result"
    }
   ],
   "execution_count": 25
  },
  {
   "metadata": {
    "ExecuteTime": {
     "end_time": "2025-03-26T08:00:49.282835Z",
     "start_time": "2025-03-26T08:00:49.272877Z"
    }
   },
   "cell_type": "code",
   "source": [
    "import math\n",
    "math.inf - math.inf"
   ],
   "id": "b22952e274dcafbb",
   "outputs": [
    {
     "data": {
      "text/plain": [
       "nan"
      ]
     },
     "execution_count": 26,
     "metadata": {},
     "output_type": "execute_result"
    }
   ],
   "execution_count": 26
  },
  {
   "metadata": {
    "ExecuteTime": {
     "end_time": "2025-03-26T08:00:49.331463Z",
     "start_time": "2025-03-26T08:00:49.320992Z"
    }
   },
   "cell_type": "code",
   "source": "math.nan",
   "id": "61dfaee9c790d45f",
   "outputs": [
    {
     "data": {
      "text/plain": [
       "nan"
      ]
     },
     "execution_count": 27,
     "metadata": {},
     "output_type": "execute_result"
    }
   ],
   "execution_count": 27
  },
  {
   "metadata": {},
   "cell_type": "markdown",
   "source": [
    "### Konsequenz\n",
    "**Niemals** Vergleichsoperator im Zusammenhang mit Fließkommazahlen"
   ],
   "id": "a341888c756ef4c2"
  },
  {
   "metadata": {
    "ExecuteTime": {
     "end_time": "2025-03-26T08:00:49.463639Z",
     "start_time": "2025-03-26T08:00:49.453018Z"
    }
   },
   "cell_type": "code",
   "outputs": [
    {
     "data": {
      "text/plain": [
       "False"
      ]
     },
     "execution_count": 28,
     "metadata": {},
     "output_type": "execute_result"
    }
   ],
   "execution_count": 28,
   "source": "0.1 + 0.1 + 0.1 == 0.3",
   "id": "2a3fa139bac15fcb"
  },
  {
   "metadata": {
    "ExecuteTime": {
     "end_time": "2025-03-26T08:02:28.718838Z",
     "start_time": "2025-03-26T08:02:28.707774Z"
    }
   },
   "cell_type": "code",
   "source": "6 * 0.3 == 1.8",
   "id": "3222c85b61882920",
   "outputs": [
    {
     "data": {
      "text/plain": [
       "False"
      ]
     },
     "execution_count": 31,
     "metadata": {},
     "output_type": "execute_result"
    }
   ],
   "execution_count": 31
  },
  {
   "metadata": {},
   "cell_type": "code",
   "outputs": [],
   "execution_count": null,
   "source": "5 * 0.3 == 1.5 # 1.5 ist darstellbar",
   "id": "e9bc1d8d8e0e6f1e"
  },
  {
   "metadata": {
    "ExecuteTime": {
     "end_time": "2025-03-26T08:05:04.241826Z",
     "start_time": "2025-03-26T08:05:04.230894Z"
    }
   },
   "cell_type": "code",
   "source": "Decimal.from_float(1.5)",
   "id": "6a26a5b53f195484",
   "outputs": [
    {
     "data": {
      "text/plain": [
       "Decimal('1.5')"
      ]
     },
     "execution_count": 32,
     "metadata": {},
     "output_type": "execute_result"
    }
   ],
   "execution_count": 32
  }
 ],
 "metadata": {
  "kernelspec": {
   "display_name": "Python 3",
   "language": "python",
   "name": "python3"
  },
  "language_info": {
   "codemirror_mode": {
    "name": "ipython",
    "version": 2
   },
   "file_extension": ".py",
   "mimetype": "text/x-python",
   "name": "python",
   "nbconvert_exporter": "python",
   "pygments_lexer": "ipython2",
   "version": "2.7.6"
  }
 },
 "nbformat": 4,
 "nbformat_minor": 5
}
